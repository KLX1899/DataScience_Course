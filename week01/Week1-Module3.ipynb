{
 "nbformat": 4,
 "nbformat_minor": 5,
 "metadata": {
  "colab": {
   "provenance": [
    {
     "file_id": "1UiDetmDekqF7JSdvOFnZbuJvwb4abW4e",
     "timestamp": 1755618043358
    }
   ],
   "toc_visible": true
  },
  "kernelspec": {
   "name": "python3",
   "display_name": "Python 3"
  },
  "language_info": {
   "name": "python"
  }
 },
 "cells": [
  {
   "cell_type": "markdown",
   "metadata": {
    "id": "SfBOFY_L5Oaw"
   },
   "source": [
    "# 4t DigiNext Data & ML Bootcamp\n",
    "\n",
    "## Week 1 - EDA\n",
    "\n",
    "### Applied Exploratory Data Analysis\n"
   ],
   "id": "SfBOFY_L5Oaw"
  },
  {
   "cell_type": "markdown",
   "source": [
    "This notebook serves as a practical guide to Applied Exploratory Data Analysis."
   ],
   "metadata": {
    "id": "KPPINz0w6frX"
   },
   "id": "KPPINz0w6frX"
  },
  {
   "cell_type": "markdown",
   "metadata": {
    "id": "QqvHrF9F5Oay"
   },
   "source": [
    "## Getting Started\n",
    "- Download [Titanic Datset](https://drive.google.com/file/d/1qsPISZNlcAaLGXG9l0WpWSzpxIbj7UYW/view?usp=sharing)\n",
    "- Upload `titanic.csv` to your runtime (Colab: *Files* → *Upload*).\n",
    "- Keep your answers brief but clear in the designated *ANSWER* cells.\n",
    "- Use plotly for plotting charts."
   ],
   "id": "QqvHrF9F5Oay"
  },
  {
   "cell_type": "code",
   "metadata": {
    "id": "fTbbi9fY5Oay",
    "ExecuteTime": {
     "start_time": "2025-08-31T17:02:33.413986Z"
    }
   },
   "source": [
    "# (Optional) Install/upgrade libraries if needed\n",
    "# If you're in Colab, these are usually available. Uncomment if required.\n",
    "# !pip install -q --upgrade pandas plotly\n",
    "\n",
    "import pandas as pd\n",
    "import numpy as np\n",
    "import plotly.express as px\n",
    "import plotly.graph_objects as go\n",
    "import matplotlib.pyplot as plt\n",
    "\n",
    "pd.set_option(\"display.max_columns\", 100)\n",
    "pd.set_option(\"display.width\", 120)\n",
    "SEED = 42\n",
    "np.random.seed(SEED)\n"
   ],
   "id": "fTbbi9fY5Oay",
   "outputs": [
    {
     "ename": "ModuleNotFoundError",
     "evalue": "No module named 'pandas'",
     "output_type": "error",
     "traceback": [
      "\u001B[31m---------------------------------------------------------------------------\u001B[39m",
      "\u001B[31mModuleNotFoundError\u001B[39m                       Traceback (most recent call last)",
      "\u001B[36mCell\u001B[39m\u001B[36m \u001B[39m\u001B[32mIn[1]\u001B[39m\u001B[32m, line 5\u001B[39m\n\u001B[32m      1\u001B[39m \u001B[38;5;66;03m# (Optional) Install/upgrade libraries if needed\u001B[39;00m\n\u001B[32m      2\u001B[39m \u001B[38;5;66;03m# If you're in Colab, these are usually available. Uncomment if required.\u001B[39;00m\n\u001B[32m      3\u001B[39m \u001B[38;5;66;03m# !pip install -q --upgrade pandas plotly\u001B[39;00m\n\u001B[32m----> \u001B[39m\u001B[32m5\u001B[39m \u001B[38;5;28;01mimport\u001B[39;00m\u001B[38;5;250m \u001B[39m\u001B[34;01mpandas\u001B[39;00m\u001B[38;5;250m \u001B[39m\u001B[38;5;28;01mas\u001B[39;00m\u001B[38;5;250m \u001B[39m\u001B[34;01mpd\u001B[39;00m\n\u001B[32m      6\u001B[39m \u001B[38;5;28;01mimport\u001B[39;00m\u001B[38;5;250m \u001B[39m\u001B[34;01mnumpy\u001B[39;00m\u001B[38;5;250m \u001B[39m\u001B[38;5;28;01mas\u001B[39;00m\u001B[38;5;250m \u001B[39m\u001B[34;01mnp\u001B[39;00m\n\u001B[32m      7\u001B[39m \u001B[38;5;28;01mimport\u001B[39;00m\u001B[38;5;250m \u001B[39m\u001B[34;01mplotly\u001B[39;00m\u001B[34;01m.\u001B[39;00m\u001B[34;01mexpress\u001B[39;00m\u001B[38;5;250m \u001B[39m\u001B[38;5;28;01mas\u001B[39;00m\u001B[38;5;250m \u001B[39m\u001B[34;01mpx\u001B[39;00m\n",
      "\u001B[31mModuleNotFoundError\u001B[39m: No module named 'pandas'"
     ]
    }
   ],
   "execution_count": 1
  },
  {
   "cell_type": "markdown",
   "metadata": {
    "id": "t7BUHbF25Oaz"
   },
   "source": [
    "## Intro\n",
    "The Titanic dataset contains one row per passenger with attributes such as **Survived**, **Pclass**, **Sex**, **Age**, **SibSp**, **Parch**, **Fare**, **Cabin**, **Embarked**, etc.\n",
    "\n",
    "Read the column descriptions (Kaggle Titanic) and refer back as necessary."
   ],
   "id": "t7BUHbF25Oaz"
  },
  {
   "cell_type": "markdown",
   "metadata": {
    "id": "dUdKSEAP5Oaz"
   },
   "source": [
    "## Data Cleaning – Missing Values"
   ],
   "id": "dUdKSEAP5Oaz"
  },
  {
   "cell_type": "markdown",
   "metadata": {
    "id": "owrKYtYD5Oa0"
   },
   "source": [
    "### 1) Load the Titanic dataset"
   ],
   "id": "owrKYtYD5Oa0"
  },
  {
   "cell_type": "code",
   "metadata": {
    "id": "dda5Yw935Oa0"
   },
   "execution_count": null,
   "outputs": [],
   "source": [],
   "id": "dda5Yw935Oa0"
  },
  {
   "cell_type": "markdown",
   "metadata": {
    "id": "EdOAPwlT5Oa0"
   },
   "source": [
    "### 2) Check for missing values in each column"
   ],
   "id": "EdOAPwlT5Oa0"
  },
  {
   "cell_type": "code",
   "metadata": {
    "id": "ev4jQn2z5Oa0"
   },
   "execution_count": null,
   "outputs": [],
   "source": [],
   "id": "ev4jQn2z5Oa0"
  },
  {
   "cell_type": "markdown",
   "metadata": {
    "id": "r4dAif335Oa0"
   },
   "source": [
    "### 3) Are they systematically missing or randomly? *(Brief answer)*\n",
    "\n",
    "**ANSWER:** _Write your reasoning here._"
   ],
   "id": "r4dAif335Oa0"
  },
  {
   "cell_type": "markdown",
   "metadata": {
    "id": "-gewlp0o5Oa0"
   },
   "source": [
    "### 4) What is the best approach to handle each column? *(Brief answer)*\n",
    "\n",
    "**ANSWER:** _Propose column-wise strategies (drop, impute, leave-as-is with indicator, etc.)._"
   ],
   "id": "-gewlp0o5Oa0"
  },
  {
   "cell_type": "markdown",
   "metadata": {
    "id": "a9BHkC5m5Oa1"
   },
   "source": [
    "### 5) Handle missing values for `Age`"
   ],
   "id": "a9BHkC5m5Oa1"
  },
  {
   "cell_type": "markdown",
   "source": [
    "#### 5-1) Drop rows with missing Age"
   ],
   "metadata": {
    "id": "6VvTLoOj756t"
   },
   "id": "6VvTLoOj756t"
  },
  {
   "cell_type": "code",
   "source": [],
   "metadata": {
    "id": "R7XU7_R48HZM"
   },
   "id": "R7XU7_R48HZM",
   "execution_count": null,
   "outputs": []
  },
  {
   "cell_type": "markdown",
   "source": [
    "#### 5-2) Fill Age with median and mean"
   ],
   "metadata": {
    "id": "N7l6oW188K1k"
   },
   "id": "N7l6oW188K1k"
  },
  {
   "cell_type": "code",
   "metadata": {
    "id": "IUE0w1Wc5Oa1"
   },
   "execution_count": null,
   "outputs": [],
   "source": [],
   "id": "IUE0w1Wc5Oa1"
  },
  {
   "cell_type": "markdown",
   "source": [
    "#### 5-3) Indicator Column"
   ],
   "metadata": {
    "id": "TeoQBFky8TZA"
   },
   "id": "TeoQBFky8TZA"
  },
  {
   "cell_type": "code",
   "source": [],
   "metadata": {
    "id": "rD3oO3QE8Yjm"
   },
   "id": "rD3oO3QE8Yjm",
   "execution_count": null,
   "outputs": []
  },
  {
   "cell_type": "markdown",
   "metadata": {
    "id": "-VPod4Ho5Oa1"
   },
   "source": [
    "### 6) Look up MAR, MCAR, MNAR. Describe a scenario for each *(Brief answer)*\n",
    "\n",
    "**ANSWER:** Your Answer Goes Here."
   ],
   "id": "-VPod4Ho5Oa1"
  },
  {
   "cell_type": "markdown",
   "metadata": {
    "id": "kPv_wjOK5Oa1"
   },
   "source": [
    "## Data Cleaning – Duplicates"
   ],
   "id": "kPv_wjOK5Oa1"
  },
  {
   "cell_type": "markdown",
   "source": [
    "### 0) Download [corrput titanic](https://drive.google.com/file/d/1ThKbMCgw0-UoCk3pJB-mnaw8pt8vIv99/view?usp=sharing) dataset."
   ],
   "metadata": {
    "id": "O31xHCJdBQXX"
   },
   "id": "O31xHCJdBQXX"
  },
  {
   "cell_type": "markdown",
   "metadata": {
    "id": "V8iyVf9f5Oa1"
   },
   "source": [
    "### 1) Upload and read `corrupt_titanic.csv`\n",
    "\n",
    "This dataset is a modified version of original dataset but with some dupl"
   ],
   "id": "V8iyVf9f5Oa1"
  },
  {
   "cell_type": "code",
   "metadata": {
    "id": "78_OF3g35Oa1"
   },
   "execution_count": null,
   "outputs": [],
   "source": [],
   "id": "78_OF3g35Oa1"
  },
  {
   "cell_type": "markdown",
   "metadata": {
    "id": "2CfwNKqc5Oa1"
   },
   "source": [
    "### 2) Basic EDA\n",
    "\n",
    "Do a basic EDA on corrupt dataset, and compare the results with the original dataset."
   ],
   "id": "2CfwNKqc5Oa1"
  },
  {
   "cell_type": "code",
   "metadata": {
    "id": "u3O3YpcP5Oa1"
   },
   "execution_count": null,
   "outputs": [],
   "source": [],
   "id": "u3O3YpcP5Oa1"
  },
  {
   "cell_type": "markdown",
   "metadata": {
    "id": "-faeomec5Oa1"
   },
   "source": [
    "### 3) Find and drop **exact** duplicates in corrupt dataset."
   ],
   "id": "-faeomec5Oa1"
  },
  {
   "cell_type": "code",
   "metadata": {
    "id": "Or3y3bbX5Oa1"
   },
   "execution_count": null,
   "outputs": [],
   "source": [],
   "id": "Or3y3bbX5Oa1"
  },
  {
   "cell_type": "markdown",
   "metadata": {
    "id": "jzV3E89u5Oa1"
   },
   "source": [
    "### 4) Look for **near-duplicates** (hint: check `Embarked`, `Ticket`, `Name`)"
   ],
   "id": "jzV3E89u5Oa1"
  },
  {
   "cell_type": "code",
   "metadata": {
    "id": "LdbtGYku5Oa1"
   },
   "execution_count": null,
   "outputs": [],
   "source": [],
   "id": "LdbtGYku5Oa1"
  },
  {
   "cell_type": "markdown",
   "source": [
    "### ** Use the main dataset for the rest of practice **"
   ],
   "metadata": {
    "id": "8zyCSCU2OegQ"
   },
   "id": "8zyCSCU2OegQ"
  },
  {
   "cell_type": "markdown",
   "metadata": {
    "id": "iAq7UtZR5Oa2"
   },
   "source": [
    "## Data Cleaning – Outliers"
   ],
   "id": "iAq7UtZR5Oa2"
  },
  {
   "cell_type": "markdown",
   "metadata": {
    "id": "7nF7Iekh5Oa2"
   },
   "source": [
    "### 1) Plot `Fare` using box-plot and histogram"
   ],
   "id": "7nF7Iekh5Oa2"
  },
  {
   "cell_type": "code",
   "metadata": {
    "id": "nbovFIyL5Oa2"
   },
   "execution_count": null,
   "outputs": [],
   "source": [],
   "id": "nbovFIyL5Oa2"
  },
  {
   "cell_type": "markdown",
   "metadata": {
    "id": "bAxBg5gQ5Oa2"
   },
   "source": [
    "### 2) Do you see any outliers in `Fare`? *(Brief answer)*\n",
    "\n",
    "**ANSWER:** _Write your interpretation here._"
   ],
   "id": "bAxBg5gQ5Oa2"
  },
  {
   "cell_type": "markdown",
   "metadata": {
    "id": "T6WsNtTA5Oa2"
   },
   "source": [
    "### 3) Do the same for `Age`"
   ],
   "id": "T6WsNtTA5Oa2"
  },
  {
   "cell_type": "code",
   "metadata": {
    "id": "5nU1WB2D5Oa2"
   },
   "execution_count": null,
   "outputs": [],
   "source": [],
   "id": "5nU1WB2D5Oa2"
  },
  {
   "cell_type": "markdown",
   "metadata": {
    "id": "ZzaZoTr65Oa2"
   },
   "source": [
    "### 4) IQR vs Z-score methods *(Brief answer)*\n",
    "\n",
    "**ANSWER:** _Briefly explain how IQR and Z-score flag outliers and compare their pros/cons._"
   ],
   "id": "ZzaZoTr65Oa2"
  },
  {
   "cell_type": "markdown",
   "metadata": {
    "id": "8K-RhDA25Oa2"
   },
   "source": [
    "## Descriptive Statistics – Survival Rates & Summary"
   ],
   "id": "8K-RhDA25Oa2"
  },
  {
   "cell_type": "markdown",
   "metadata": {
    "id": "BxOmfjAN5Oa2"
   },
   "source": [
    "### 1) Survival rate by **gender** and **class**, then both."
   ],
   "id": "BxOmfjAN5Oa2"
  },
  {
   "cell_type": "code",
   "metadata": {
    "id": "8S_sJQ385Oa2"
   },
   "execution_count": null,
   "outputs": [],
   "source": [],
   "id": "8S_sJQ385Oa2"
  },
  {
   "cell_type": "markdown",
   "metadata": {
    "id": "0zgsQN3Q5Oa2"
   },
   "source": [
    "### 2) Mean, median, mode for `Fare`"
   ],
   "id": "0zgsQN3Q5Oa2"
  },
  {
   "cell_type": "code",
   "metadata": {
    "id": "fNP9UUfh5Oa2"
   },
   "execution_count": null,
   "outputs": [],
   "source": [],
   "id": "fNP9UUfh5Oa2"
  },
  {
   "cell_type": "markdown",
   "metadata": {
    "id": "S8EuJ-AS5Oa2"
   },
   "source": [
    "### 3) Min, Max, Std for `Age`"
   ],
   "id": "S8EuJ-AS5Oa2"
  },
  {
   "cell_type": "code",
   "metadata": {
    "id": "6P9-qAdY5Oa5"
   },
   "execution_count": null,
   "outputs": [],
   "source": [],
   "id": "6P9-qAdY5Oa5"
  },
  {
   "cell_type": "markdown",
   "metadata": {
    "id": "r1uaTFb15Oa6"
   },
   "source": [
    "### 4) Value counts of `Embarked` with percentages"
   ],
   "id": "r1uaTFb15Oa6"
  },
  {
   "cell_type": "code",
   "metadata": {
    "id": "iinLw_3Y5Oa6"
   },
   "execution_count": null,
   "outputs": [],
   "source": [],
   "id": "iinLw_3Y5Oa6"
  },
  {
   "cell_type": "markdown",
   "metadata": {
    "id": "-liIp1fE5Oa6"
   },
   "source": [
    "## Univariate Analysis – Numerical"
   ],
   "id": "-liIp1fE5Oa6"
  },
  {
   "cell_type": "markdown",
   "metadata": {
    "id": "O78OueuU5Oa6"
   },
   "source": [
    "### 1) Histogram + KDE for `Age`"
   ],
   "id": "O78OueuU5Oa6"
  },
  {
   "cell_type": "code",
   "metadata": {
    "id": "31saZlNu5Oa6"
   },
   "execution_count": null,
   "outputs": [],
   "source": [],
   "id": "31saZlNu5Oa6"
  },
  {
   "cell_type": "markdown",
   "metadata": {
    "id": "odBEYAbA5Oa6"
   },
   "source": [
    "### 2) Skewness & Kurtosis for `Age`"
   ],
   "id": "odBEYAbA5Oa6"
  },
  {
   "cell_type": "code",
   "metadata": {
    "id": "hwV90i0m5Oa6"
   },
   "execution_count": null,
   "outputs": [],
   "source": [],
   "id": "hwV90i0m5Oa6"
  },
  {
   "cell_type": "markdown",
   "metadata": {
    "id": "XQaI-qHS5Oa6"
   },
   "source": [
    "### 3) Distribution types lookup *(Brief answer)*\n",
    "\n",
    "**ANSWER:** _Define symmetric, skewed, heavy tails._"
   ],
   "id": "XQaI-qHS5Oa6"
  },
  {
   "cell_type": "markdown",
   "metadata": {
    "id": "QtLXrybc5Oa6"
   },
   "source": [
    "### 4) Indicate Age distribution type *(Brief answer)*\n",
    "\n",
    "**ANSWER:** _Describe whether Age looks symmetric/skewed and why (use skew/kurtosis)._"
   ],
   "id": "QtLXrybc5Oa6"
  },
  {
   "cell_type": "markdown",
   "metadata": {
    "id": "j90t-2GT5Oa6"
   },
   "source": [
    "### 5) Repeat for `Fare`"
   ],
   "id": "j90t-2GT5Oa6"
  },
  {
   "cell_type": "code",
   "metadata": {
    "id": "ysVqwnHD5Oa6"
   },
   "execution_count": null,
   "outputs": [],
   "source": [],
   "id": "ysVqwnHD5Oa6"
  },
  {
   "cell_type": "markdown",
   "metadata": {
    "id": "QX-5bTuL5Oa6"
   },
   "source": [
    "## Univariate Analysis – Categorical"
   ],
   "id": "QX-5bTuL5Oa6"
  },
  {
   "cell_type": "markdown",
   "metadata": {
    "id": "iyC9QOT_5Oa6"
   },
   "source": [
    "### 1) Bar charts of `Embarked`, `Pclass`, `Sex`"
   ],
   "id": "iyC9QOT_5Oa6"
  },
  {
   "cell_type": "code",
   "metadata": {
    "id": "xFvDwZDX5Oa6"
   },
   "execution_count": null,
   "outputs": [],
   "source": [],
   "id": "xFvDwZDX5Oa6"
  },
  {
   "cell_type": "markdown",
   "metadata": {
    "id": "CdpXuS-K5Oa6"
   },
   "source": [
    "## Bivariate Analysis – Numerical & Numerical"
   ],
   "id": "CdpXuS-K5Oa6"
  },
  {
   "cell_type": "markdown",
   "metadata": {
    "id": "trQ9ooL15Oa6"
   },
   "source": [
    "### 1) Scatter plot of `Age` vs `Fare`"
   ],
   "id": "trQ9ooL15Oa6"
  },
  {
   "cell_type": "code",
   "metadata": {
    "id": "eOiIcnE05Oa6"
   },
   "execution_count": null,
   "outputs": [],
   "source": [],
   "id": "eOiIcnE05Oa6"
  },
  {
   "cell_type": "markdown",
   "metadata": {
    "id": "vfS3UZmo5Oa6"
   },
   "source": [
    "### 2) Pattern interpretation *(Brief answer)*\n",
    "\n",
    "**ANSWER:** _Do you see structure or clusters? Any relation to survival? Is this a useful plot? Suggest Improvements._"
   ],
   "id": "vfS3UZmo5Oa6"
  },
  {
   "cell_type": "markdown",
   "metadata": {
    "id": "Yacn4F6s5Oa6"
   },
   "source": [
    "## Bivariate Analysis – Categorical & Numerical"
   ],
   "id": "Yacn4F6s5Oa6"
  },
  {
   "cell_type": "markdown",
   "metadata": {
    "id": "BNngyv6M5Oa7"
   },
   "source": [
    "### 1) Boxplot of `Age` grouped by `Survived`"
   ],
   "id": "BNngyv6M5Oa7"
  },
  {
   "cell_type": "code",
   "metadata": {
    "id": "Gdn2ydjg5Oa7"
   },
   "execution_count": null,
   "outputs": [],
   "source": [],
   "id": "Gdn2ydjg5Oa7"
  },
  {
   "cell_type": "markdown",
   "metadata": {
    "id": "VROzBIcU5Oa7"
   },
   "source": [
    "### 2) Violin plot of `Fare` grouped by `Survived`"
   ],
   "id": "VROzBIcU5Oa7"
  },
  {
   "cell_type": "code",
   "metadata": {
    "id": "iuf1laOi5Oa7"
   },
   "execution_count": null,
   "outputs": [],
   "source": [],
   "id": "iuf1laOi5Oa7"
  },
  {
   "cell_type": "markdown",
   "metadata": {
    "id": "5GPTN9aW5Oa7"
   },
   "source": [
    "### 3) Histogram of `Age` grouped by `Survived`"
   ],
   "id": "5GPTN9aW5Oa7"
  },
  {
   "cell_type": "code",
   "metadata": {
    "id": "VNUA51MI5Oa7"
   },
   "execution_count": null,
   "outputs": [],
   "source": [],
   "id": "VNUA51MI5Oa7"
  },
  {
   "cell_type": "markdown",
   "metadata": {
    "id": "KavaXdxd5Oa7"
   },
   "source": [
    "### 4) Histogram of `Fare` grouped by `Survived`"
   ],
   "id": "KavaXdxd5Oa7"
  },
  {
   "cell_type": "code",
   "metadata": {
    "id": "OA0Be1af5Oa7"
   },
   "execution_count": null,
   "outputs": [],
   "source": [],
   "id": "OA0Be1af5Oa7"
  },
  {
   "cell_type": "markdown",
   "metadata": {
    "id": "6UliLyF_5Oa7"
   },
   "source": [
    "### 5) Interpretation *(Brief answer)*\n",
    "\n",
    "**ANSWER:** _Comment on whether Age or Fare distributions differ between survivors and non-survivors._"
   ],
   "id": "6UliLyF_5Oa7"
  },
  {
   "cell_type": "markdown",
   "metadata": {
    "id": "JiT7AIhi5Oa7"
   },
   "source": [
    "## Bivariate Analysis – Categorical & Categorical"
   ],
   "id": "JiT7AIhi5Oa7"
  },
  {
   "cell_type": "markdown",
   "metadata": {
    "id": "LZa8iSNV5Oa7"
   },
   "source": [
    "### 1) Grouped bar chart of `Sex` and `Pclass`"
   ],
   "id": "LZa8iSNV5Oa7"
  },
  {
   "cell_type": "code",
   "metadata": {
    "id": "ilGGfBre5Oa7"
   },
   "execution_count": null,
   "outputs": [],
   "source": [],
   "id": "ilGGfBre5Oa7"
  },
  {
   "cell_type": "markdown",
   "metadata": {
    "id": "fFkaM2935Oa7"
   },
   "source": [
    "## Bivariate Analysis – Correlation Heatmap"
   ],
   "id": "fFkaM2935Oa7"
  },
  {
   "cell_type": "markdown",
   "metadata": {
    "id": "_ESOnf2A5Oa7"
   },
   "source": [
    "### 1) Correlation matrix of numerical features"
   ],
   "id": "_ESOnf2A5Oa7"
  },
  {
   "cell_type": "code",
   "metadata": {
    "id": "sqoGeoWn5Oa7"
   },
   "execution_count": null,
   "outputs": [],
   "source": [],
   "id": "sqoGeoWn5Oa7"
  },
  {
   "cell_type": "markdown",
   "metadata": {
    "id": "-Je61Z0w5Oa7"
   },
   "source": [
    "### 2) Heatmap for the correlation matrix"
   ],
   "id": "-Je61Z0w5Oa7"
  },
  {
   "cell_type": "code",
   "metadata": {
    "id": "iurjmEI55Oa7"
   },
   "execution_count": null,
   "outputs": [],
   "source": [],
   "id": "iurjmEI55Oa7"
  },
  {
   "cell_type": "markdown",
   "metadata": {
    "id": "ePHRteUb5Oa7"
   },
   "source": [
    "### 3) Which variables correlate most with `Survived`? *(Brief answer)*\n",
    "\n",
    "**ANSWER:** _Use the heatmap/corr to justify._"
   ],
   "id": "ePHRteUb5Oa7"
  },
  {
   "cell_type": "markdown",
   "metadata": {
    "id": "5laGLXld5Oa7"
   },
   "source": [
    "## Trends & Patterns – Hypothesis Generation"
   ],
   "id": "5laGLXld5Oa7"
  },
  {
   "cell_type": "markdown",
   "metadata": {
    "id": "UBxZJQul5Oa7"
   },
   "source": [
    "### 1) Grouped bar plots for survival rate by **Pclass** and **Sex**"
   ],
   "id": "UBxZJQul5Oa7"
  },
  {
   "cell_type": "code",
   "metadata": {
    "id": "0UUkxHYk5Oa7"
   },
   "execution_count": null,
   "outputs": [],
   "source": [],
   "id": "0UUkxHYk5Oa7"
  },
  {
   "cell_type": "markdown",
   "metadata": {
    "id": "HVAVd3mR5Oa7"
   },
   "source": [
    "---\n",
    "## Notes\n",
    "- Keep your narrative answers concise.\n",
    "- When you choose a cleaning/imputation method, comment on rationale and"
   ],
   "id": "HVAVd3mR5Oa7"
  }
 ]
}
