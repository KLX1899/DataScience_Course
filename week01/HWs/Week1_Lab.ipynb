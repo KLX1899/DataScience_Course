{
  "nbformat": 4,
  "nbformat_minor": 0,
  "metadata": {
    "colab": {
      "provenance": [],
      "gpuType": "T4"
    },
    "kernelspec": {
      "name": "python3",
      "display_name": "Python 3"
    },
    "language_info": {
      "name": "python"
    },
    "widgets": {
      "application/vnd.jupyter.widget-state+json": {
        "bd0c21a046f446a1bfb642a450d03c4c": {
          "model_module": "@jupyter-widgets/controls",
          "model_name": "HBoxModel",
          "model_module_version": "1.5.0",
          "state": {
            "_dom_classes": [],
            "_model_module": "@jupyter-widgets/controls",
            "_model_module_version": "1.5.0",
            "_model_name": "HBoxModel",
            "_view_count": null,
            "_view_module": "@jupyter-widgets/controls",
            "_view_module_version": "1.5.0",
            "_view_name": "HBoxView",
            "box_style": "",
            "children": [
              "IPY_MODEL_58b3659f23f64b049f5e67fc5e34467d",
              "IPY_MODEL_c7126b69349d4d0abba3d4f2a2e46e5a",
              "IPY_MODEL_17d4ff28d9c64a558cba36f1809b1038"
            ],
            "layout": "IPY_MODEL_4d26d10e33464a11b09fff7bc4eb8621"
          }
        },
        "58b3659f23f64b049f5e67fc5e34467d": {
          "model_module": "@jupyter-widgets/controls",
          "model_name": "HTMLModel",
          "model_module_version": "1.5.0",
          "state": {
            "_dom_classes": [],
            "_model_module": "@jupyter-widgets/controls",
            "_model_module_version": "1.5.0",
            "_model_name": "HTMLModel",
            "_view_count": null,
            "_view_module": "@jupyter-widgets/controls",
            "_view_module_version": "1.5.0",
            "_view_name": "HTMLView",
            "description": "",
            "description_tooltip": null,
            "layout": "IPY_MODEL_4d57fc3c3a9440b2bd3512eefc9db9cd",
            "placeholder": "​",
            "style": "IPY_MODEL_7157ac7b79384763a047c317c8b88799",
            "value": "Summarize dataset:  78%"
          }
        },
        "c7126b69349d4d0abba3d4f2a2e46e5a": {
          "model_module": "@jupyter-widgets/controls",
          "model_name": "FloatProgressModel",
          "model_module_version": "1.5.0",
          "state": {
            "_dom_classes": [],
            "_model_module": "@jupyter-widgets/controls",
            "_model_module_version": "1.5.0",
            "_model_name": "FloatProgressModel",
            "_view_count": null,
            "_view_module": "@jupyter-widgets/controls",
            "_view_module_version": "1.5.0",
            "_view_name": "ProgressView",
            "bar_style": "",
            "description": "",
            "description_tooltip": null,
            "layout": "IPY_MODEL_8b991342afb640b5b40247d1b94aa577",
            "max": 5,
            "min": 0,
            "orientation": "horizontal",
            "style": "IPY_MODEL_65f30a2e81374082aabb80ed46a4144b",
            "value": 5
          }
        },
        "17d4ff28d9c64a558cba36f1809b1038": {
          "model_module": "@jupyter-widgets/controls",
          "model_name": "HTMLModel",
          "model_module_version": "1.5.0",
          "state": {
            "_dom_classes": [],
            "_model_module": "@jupyter-widgets/controls",
            "_model_module_version": "1.5.0",
            "_model_name": "HTMLModel",
            "_view_count": null,
            "_view_module": "@jupyter-widgets/controls",
            "_view_module_version": "1.5.0",
            "_view_name": "HTMLView",
            "description": "",
            "description_tooltip": null,
            "layout": "IPY_MODEL_61a6b98d1d9c4b69baa5c93f9e0dbc91",
            "placeholder": "​",
            "style": "IPY_MODEL_de1e101bbe424ae8b81c2ec2fc2b72ed",
            "value": " 21/27 [00:05&lt;00:01,  4.29it/s, Describe variable: NationalCode]"
          }
        },
        "4d26d10e33464a11b09fff7bc4eb8621": {
          "model_module": "@jupyter-widgets/base",
          "model_name": "LayoutModel",
          "model_module_version": "1.2.0",
          "state": {
            "_model_module": "@jupyter-widgets/base",
            "_model_module_version": "1.2.0",
            "_model_name": "LayoutModel",
            "_view_count": null,
            "_view_module": "@jupyter-widgets/base",
            "_view_module_version": "1.2.0",
            "_view_name": "LayoutView",
            "align_content": null,
            "align_items": null,
            "align_self": null,
            "border": null,
            "bottom": null,
            "display": null,
            "flex": null,
            "flex_flow": null,
            "grid_area": null,
            "grid_auto_columns": null,
            "grid_auto_flow": null,
            "grid_auto_rows": null,
            "grid_column": null,
            "grid_gap": null,
            "grid_row": null,
            "grid_template_areas": null,
            "grid_template_columns": null,
            "grid_template_rows": null,
            "height": null,
            "justify_content": null,
            "justify_items": null,
            "left": null,
            "margin": null,
            "max_height": null,
            "max_width": null,
            "min_height": null,
            "min_width": null,
            "object_fit": null,
            "object_position": null,
            "order": null,
            "overflow": null,
            "overflow_x": null,
            "overflow_y": null,
            "padding": null,
            "right": null,
            "top": null,
            "visibility": null,
            "width": null
          }
        },
        "4d57fc3c3a9440b2bd3512eefc9db9cd": {
          "model_module": "@jupyter-widgets/base",
          "model_name": "LayoutModel",
          "model_module_version": "1.2.0",
          "state": {
            "_model_module": "@jupyter-widgets/base",
            "_model_module_version": "1.2.0",
            "_model_name": "LayoutModel",
            "_view_count": null,
            "_view_module": "@jupyter-widgets/base",
            "_view_module_version": "1.2.0",
            "_view_name": "LayoutView",
            "align_content": null,
            "align_items": null,
            "align_self": null,
            "border": null,
            "bottom": null,
            "display": null,
            "flex": null,
            "flex_flow": null,
            "grid_area": null,
            "grid_auto_columns": null,
            "grid_auto_flow": null,
            "grid_auto_rows": null,
            "grid_column": null,
            "grid_gap": null,
            "grid_row": null,
            "grid_template_areas": null,
            "grid_template_columns": null,
            "grid_template_rows": null,
            "height": null,
            "justify_content": null,
            "justify_items": null,
            "left": null,
            "margin": null,
            "max_height": null,
            "max_width": null,
            "min_height": null,
            "min_width": null,
            "object_fit": null,
            "object_position": null,
            "order": null,
            "overflow": null,
            "overflow_x": null,
            "overflow_y": null,
            "padding": null,
            "right": null,
            "top": null,
            "visibility": null,
            "width": null
          }
        },
        "7157ac7b79384763a047c317c8b88799": {
          "model_module": "@jupyter-widgets/controls",
          "model_name": "DescriptionStyleModel",
          "model_module_version": "1.5.0",
          "state": {
            "_model_module": "@jupyter-widgets/controls",
            "_model_module_version": "1.5.0",
            "_model_name": "DescriptionStyleModel",
            "_view_count": null,
            "_view_module": "@jupyter-widgets/base",
            "_view_module_version": "1.2.0",
            "_view_name": "StyleView",
            "description_width": ""
          }
        },
        "8b991342afb640b5b40247d1b94aa577": {
          "model_module": "@jupyter-widgets/base",
          "model_name": "LayoutModel",
          "model_module_version": "1.2.0",
          "state": {
            "_model_module": "@jupyter-widgets/base",
            "_model_module_version": "1.2.0",
            "_model_name": "LayoutModel",
            "_view_count": null,
            "_view_module": "@jupyter-widgets/base",
            "_view_module_version": "1.2.0",
            "_view_name": "LayoutView",
            "align_content": null,
            "align_items": null,
            "align_self": null,
            "border": null,
            "bottom": null,
            "display": null,
            "flex": null,
            "flex_flow": null,
            "grid_area": null,
            "grid_auto_columns": null,
            "grid_auto_flow": null,
            "grid_auto_rows": null,
            "grid_column": null,
            "grid_gap": null,
            "grid_row": null,
            "grid_template_areas": null,
            "grid_template_columns": null,
            "grid_template_rows": null,
            "height": null,
            "justify_content": null,
            "justify_items": null,
            "left": null,
            "margin": null,
            "max_height": null,
            "max_width": null,
            "min_height": null,
            "min_width": null,
            "object_fit": null,
            "object_position": null,
            "order": null,
            "overflow": null,
            "overflow_x": null,
            "overflow_y": null,
            "padding": null,
            "right": null,
            "top": null,
            "visibility": null,
            "width": null
          }
        },
        "65f30a2e81374082aabb80ed46a4144b": {
          "model_module": "@jupyter-widgets/controls",
          "model_name": "ProgressStyleModel",
          "model_module_version": "1.5.0",
          "state": {
            "_model_module": "@jupyter-widgets/controls",
            "_model_module_version": "1.5.0",
            "_model_name": "ProgressStyleModel",
            "_view_count": null,
            "_view_module": "@jupyter-widgets/base",
            "_view_module_version": "1.2.0",
            "_view_name": "StyleView",
            "bar_color": null,
            "description_width": ""
          }
        },
        "61a6b98d1d9c4b69baa5c93f9e0dbc91": {
          "model_module": "@jupyter-widgets/base",
          "model_name": "LayoutModel",
          "model_module_version": "1.2.0",
          "state": {
            "_model_module": "@jupyter-widgets/base",
            "_model_module_version": "1.2.0",
            "_model_name": "LayoutModel",
            "_view_count": null,
            "_view_module": "@jupyter-widgets/base",
            "_view_module_version": "1.2.0",
            "_view_name": "LayoutView",
            "align_content": null,
            "align_items": null,
            "align_self": null,
            "border": null,
            "bottom": null,
            "display": null,
            "flex": null,
            "flex_flow": null,
            "grid_area": null,
            "grid_auto_columns": null,
            "grid_auto_flow": null,
            "grid_auto_rows": null,
            "grid_column": null,
            "grid_gap": null,
            "grid_row": null,
            "grid_template_areas": null,
            "grid_template_columns": null,
            "grid_template_rows": null,
            "height": null,
            "justify_content": null,
            "justify_items": null,
            "left": null,
            "margin": null,
            "max_height": null,
            "max_width": null,
            "min_height": null,
            "min_width": null,
            "object_fit": null,
            "object_position": null,
            "order": null,
            "overflow": null,
            "overflow_x": null,
            "overflow_y": null,
            "padding": null,
            "right": null,
            "top": null,
            "visibility": null,
            "width": null
          }
        },
        "de1e101bbe424ae8b81c2ec2fc2b72ed": {
          "model_module": "@jupyter-widgets/controls",
          "model_name": "DescriptionStyleModel",
          "model_module_version": "1.5.0",
          "state": {
            "_model_module": "@jupyter-widgets/controls",
            "_model_module_version": "1.5.0",
            "_model_name": "DescriptionStyleModel",
            "_view_count": null,
            "_view_module": "@jupyter-widgets/base",
            "_view_module_version": "1.2.0",
            "_view_name": "StyleView",
            "description_width": ""
          }
        }
      }
    }
  },
  "cells": [
    {
      "cell_type": "markdown",
      "source": [
        "\n",
        "\n",
        "##**Exploring Travel Insights:**\n",
        "\n",
        "###**An End-to-End EDA Project on MR.Bilit Trip Data 🚗 🚌 🚆 ✈**"
      ],
      "metadata": {
        "id": "5yqs05IQ_ReL"
      }
    },
    {
      "cell_type": "markdown",
      "source": [
        "To know more about Mr.Bilit and how this bussiness works, Follow this [link](https://mrbilit.com/).\n"
      ],
      "metadata": {
        "id": "GaMzzj_bG95M"
      }
    },
    {
      "cell_type": "markdown",
      "source": [
        "---\n",
        "####**Step 1: Understanding MR.Bilit and Its Business Challenges**"
      ],
      "metadata": {
        "id": "39yKtLlUImfs"
      }
    },
    {
      "cell_type": "markdown",
      "source": [
        "Start by exploring MR.Bilit’s services and think about its business model.  \n",
        "Answer following questions. [At least 5]\n",
        "\n",
        "1. What is MR.Bilit’s business model? (What do they sell, who are their customers, how do they make money?)\n",
        "2. Which 3 KPIs matter most for MR.Bilit? Why?\n",
        "3. Does cancellation matter for the business? Why?\n",
        "4. Identify stakeholders in MR.Bilit's Business.\n",
        "5. Which stakeholders are most affected by cancellations?\n",
        "6. What are the seasonal trends in MR.Bilit's business?\n",
        "7. How might seasonal demand (holidays, summer vs winter) affect MR.Bilit’s business?\n",
        "8. How can MR.Bilit increase its profitability?\n",
        "9. What reasons cause customers to cancel bookings?\n",
        "10. Ask a proper question that is missing and answer it yourself!"
      ],
      "metadata": {
        "id": "dMLJCooALYjy"
      }
    },
    {
      "cell_type": "markdown",
      "source": [
        "### ANSWERS\n",
        "\n",
        "1.   There are companies that own trains, planes, buses and other means of transportation. There are also people who want to travel between two destinations in two different cities within a certain time frame. MR.Bilit is a bridge between companies and people that provides services. It sells tickets for companies and also transports people.\n",
        "\n",
        "2.   TOTAL TICKET SOLD: core measure of demand and business volume<br>REVENUE: tells you the actual monetary performance, not just volume<br>BOOKING CONVERSATION RATE: shows how efficiently your traffic turns into paying customers<br>these three togehter tell you \"how much interest you're attracting\", \"how well you're closing sales\" and \"how much money you're making from it\".\n",
        "\n",
        "3.   Yes; cancellation rate is critical because each cancelled ticket can mean lost revenue, wasted seat inventory, extra operational costs for processing refunds, and potential damage to customer trust. High cancellations make demand forecasting less reliable and can block opportunities to resell seats in time, hurting both profitability and service quality. That’s why ticketing businesses track it closely and use policies or pricing strategies to keep it under control.\n",
        "\n",
        "4.   investors / customers / suppliers (airlines, train companies, ...) / internal teams / payment & financial partners / companies that have advertised on MR.Bilit\n",
        "\n",
        "5.   suppliers / investors\n",
        "\n",
        "6.   in general, the peak of travel is consistently in the summer (schools and universities are closed, some companies are closed for the summer) and nowruz. depending on the holidays and their location in the week, there may be periods of growth, but usually not as much as nowruz and summer.\n",
        "\n",
        "7.   seasonal demand in MR.Bilit’s business means peak periods like nowruz, summer holidays, and winter trips bring sharp increases in sales, revenue, and operational workload, while off‑season months can see lower bookings and cash flow. high‑demand seasons require careful seat allocation, dynamic pricing, and strong supplier coordination, whereas low‑demand periods call for more promotions to stimulate sales. seasonality also affects cancellation patterns, staffing needs, and marketing focus throughout the year.<br> **MY QUESTION:** Instead of trying to attract customers during low demand seasons, wouldn't it be better to try harder during high demand seasons to gain more market share during peak pricing and customer demand?\n",
        "\n",
        "8.   MR.Bilit can increase profitability by combining revenue growth strategies like dynamic pricing, upselling add‑ons (insurance, seat selection), expanding profitable routes, and targeting high‑value customer segments—with cost efficiency measures, such as automating booking and refund processes, optimizing marketing spend toward high‑ROI channels, and improving supplier negotiations for better commissions. Reducing cancellation rates and filling off‑peak gaps with promotions or partnerships can also stabilize cash flow and boost margins year‑round.\n",
        "\n",
        "9.   change in travel plan or scedule / illness or personal emergencies / better pricing found elsewhere / visa issues / weather disruptions / safety concerns / purpose of travel canceled / booking errors\n",
        "\n",
        "10.   **QUESTION:** how can we generate more revenue simply by better scheduling passengers on a vehicle?<br>**ANSWER:** Student trips between semesters are usually short, and a quick and timely return is very important to them. Business trips, on the other hand, are usually more important to a quick and timely return. For both groups, price is one of the most influential factors in choosing a ticket. Depending on the number of passengers, a specific vehicle can be offered at a discount for students (for example, from Tehran to Isfahan) and employees returning to Tehran, and after a few days, when a significant number of them want to return, it can be provided for students and employees returning. In this way, we have somewhat predetermined the passengers of a vehicle before selling return tickets."
      ],
      "metadata": {
        "id": "9divOlsrNv1z"
      }
    },
    {
      "cell_type": "markdown",
      "source": [
        "---\n",
        "####**Step 2: Basic EDA**\n",
        "\n",
        "Perform basic data cleaning and descriptive EDA.\n",
        "\n",
        "Goal: Build familiarity with the dataset and spot high-level trends."
      ],
      "metadata": {
        "id": "H2PCh3A5JtgF"
      }
    },
    {
      "cell_type": "markdown",
      "source": [
        "**Data is available in:**\n",
        "\n",
        " [Mr.Bilit-Trip Information](https://www.kaggle.com/datasets/samyardaghighirad/mrbilit-trip-information-dataset?resource=download)\n",
        "\n"
      ],
      "metadata": {
        "id": "LqsyW1YhHzcQ"
      }
    },
    {
      "cell_type": "markdown",
      "source": [
        "What you can do:\n",
        "\n",
        "1. Inspect columns, data types, and missing values.\n",
        "2. Handle missing values. Document assumptions.\n",
        "3. Detect anomalies (negative/zero prices, invalid dates, duplicate routes).\n",
        "4. Plot distributions (Price histogram, Vehicle frequency, Booking gap distribution, etc.)\n",
        "5. Compute baseline KPIs (Total bookings, cancellation rate, cancellation rate by vehicle, etc.)\n",
        "6. Plot routes (Popular routes, Per vehicle, etc.)\n",
        "7. Plot Seasonality (Total bookings, per vehicle, per route or destination, etc.)"
      ],
      "metadata": {
        "id": "V0W-MQ-QO9qq"
      }
    },
    {
      "cell_type": "markdown",
      "source": [
        "---\n",
        "#### **Step 3: Advanced EDA**\n",
        "\n",
        "Now dig into cancellations — the key business issue.\n",
        "\n",
        "Goal: Move from descriptive to explanatory analysis."
      ],
      "metadata": {
        "id": "OnZMJpmQQr57"
      }
    },
    {
      "cell_type": "markdown",
      "source": [
        "What you can do:\n",
        "\n",
        "1. Create new features like Booking Gap, Departure Hour, Day of Week, Month, etc.\n",
        "2. Cancellation rate by booking gap bins.\n",
        "3. Cancellation rate by vehicle type.\n",
        "4. Cancellation rate by price.\n",
        "5. Cancellation rate by gender.\n",
        "6. Cancellation rate by route.\n",
        "7. Cancellation rate by combination of above features.\n",
        "8. Check for the seasonallity in cancellation.\n",
        "9. Some features may be more useful if you turn them into buckets."
      ],
      "metadata": {
        "id": "xQztYZn7Q-OG"
      }
    },
    {
      "cell_type": "code",
      "source": [
        "!pip -q install ydata-profiling plotly pandas"
      ],
      "metadata": {
        "id": "ldVwvWFmwL49"
      },
      "execution_count": 3,
      "outputs": []
    },
    {
      "cell_type": "code",
      "source": [
        "from ydata_profiling import ProfileReport\n",
        "import pandas as pd"
      ],
      "metadata": {
        "colab": {
          "base_uri": "https://localhost:8080/",
          "height": 81
        },
        "id": "U9yocZkcwMim",
        "outputId": "9c95d644-8ebe-4725-b6db-9bb71a9f02ef"
      },
      "execution_count": 2,
      "outputs": [
        {
          "output_type": "display_data",
          "data": {
            "text/plain": [
              "<IPython.core.display.HTML object>"
            ],
            "text/html": [
              "\n",
              "            <div>\n",
              "                <ins><a href=\"https://ydata.ai/register\">Upgrade to ydata-sdk</a></ins>\n",
              "                <p>\n",
              "                    Improve your data and profiling with ydata-sdk, featuring data quality scoring, redundancy detection, outlier identification, text validation, and synthetic data generation.\n",
              "                </p>\n",
              "            </div>\n",
              "            "
            ]
          },
          "metadata": {}
        }
      ]
    },
    {
      "cell_type": "code",
      "source": [
        "df = pd.read_csv(\"mrbilit_dataset.csv\")"
      ],
      "metadata": {
        "id": "B4BJ7LuPvUIE"
      },
      "execution_count": 3,
      "outputs": []
    },
    {
      "cell_type": "code",
      "source": [
        "ProfileReport(df, title=\"mrbilit – EDA Profile\", explorative=True).to_notebook_iframe()\n",
        "\n",
        "#the session crashed after using all available RAM."
      ],
      "metadata": {
        "colab": {
          "base_uri": "https://localhost:8080/",
          "height": 240,
          "referenced_widgets": [
            "bd0c21a046f446a1bfb642a450d03c4c",
            "58b3659f23f64b049f5e67fc5e34467d",
            "c7126b69349d4d0abba3d4f2a2e46e5a",
            "17d4ff28d9c64a558cba36f1809b1038",
            "4d26d10e33464a11b09fff7bc4eb8621",
            "4d57fc3c3a9440b2bd3512eefc9db9cd",
            "7157ac7b79384763a047c317c8b88799",
            "8b991342afb640b5b40247d1b94aa577",
            "65f30a2e81374082aabb80ed46a4144b",
            "61a6b98d1d9c4b69baa5c93f9e0dbc91",
            "de1e101bbe424ae8b81c2ec2fc2b72ed"
          ]
        },
        "id": "jB6CCw14wRfn",
        "outputId": "93253918-cf1b-469e-c761-432dc0468a37"
      },
      "execution_count": null,
      "outputs": [
        {
          "output_type": "display_data",
          "data": {
            "text/plain": [
              "Summarize dataset:   0%|          | 0/5 [00:00<?, ?it/s]"
            ],
            "application/vnd.jupyter.widget-view+json": {
              "version_major": 2,
              "version_minor": 0,
              "model_id": "bd0c21a046f446a1bfb642a450d03c4c"
            }
          },
          "metadata": {}
        },
        {
          "output_type": "stream",
          "name": "stderr",
          "text": [
            "\n",
            "  0%|          | 0/22 [00:00<?, ?it/s]\u001b[A\n",
            "  5%|▍         | 1/22 [00:01<00:33,  1.59s/it]\u001b[A\n",
            " 14%|█▎        | 3/22 [00:02<00:11,  1.69it/s]\u001b[A\n",
            " 23%|██▎       | 5/22 [00:02<00:06,  2.51it/s]\u001b[A\n",
            " 41%|████      | 9/22 [00:02<00:02,  5.26it/s]\u001b[A\n",
            " 50%|█████     | 11/22 [00:03<00:02,  5.08it/s]\u001b[A\n",
            " 59%|█████▉    | 13/22 [00:03<00:01,  5.57it/s]\u001b[A\n",
            " 64%|██████▎   | 14/22 [00:04<00:02,  3.09it/s]\u001b[A\n",
            " 82%|████████▏ | 18/22 [00:04<00:00,  5.67it/s]\u001b[A\n",
            " 91%|█████████ | 20/22 [00:05<00:00,  4.14it/s]\u001b[A"
          ]
        }
      ]
    },
    {
      "cell_type": "markdown",
      "source": [
        "---\n",
        "#### **Step 4: Explore More**"
      ],
      "metadata": {
        "id": "6VAQjltea3dM"
      }
    },
    {
      "cell_type": "markdown",
      "source": [
        "**Try to answer at least 3 question**\n",
        "\n",
        "\n",
        "\n"
      ],
      "metadata": {
        "id": "GeGBVzVdJttl"
      }
    },
    {
      "cell_type": "markdown",
      "source": [
        "1. Cancellation rates vary by route, vehicle type, and time.\n",
        "  * What could be the possible operational, seasonal, or customer-related reasons behind these differences?\n",
        "  * How would you test your hypothesis??\n",
        "\n",
        "2. Some months or days have significantly higher or lower cancellation.\n",
        "  * What could be driving these peaks and drops?\n",
        "  * how would you validate your assumptions using the data?\n",
        "\n",
        "\n",
        "3. If cancellations for a specific Vehicle suddenly rise, what hypotheses could you make about operational issues (maintenance, driver shortage, regulations)?\n",
        "  * How could you use data to confirm?\n",
        "\n",
        "4. Do short-notice bookings (<8h) behave differently from long-lead bookings (>1w)?\n",
        "  * What does this behavior reveal about different customer groups (commuters vs. planners vs. tourists)?\n",
        "\n",
        "5. Do male and female passengers show different booking and cancellation patterns (routes, prices, trip reasons)?\n",
        "  * What social, economic, or cultural factors might explain differences?\n",
        "\n",
        "\n",
        "6. Based on price, booking gap, and trip reason, what customer segments can you identify?\n",
        "  * Suggest how MR.Bilit could target them with personalized marketing.\n",
        "  * What additional data would help refine this segmentation?\n",
        "\n",
        "\n",
        "8. Does offering a CouponDiscount increase bookings or reduce cancellations?\n",
        "  * Is it more effective in certain seasons or for specific vehicles?\n",
        "  * What experiments could MR.Bilit run to validate?\n",
        "\n",
        "9. Which routes are the most profitable (high price × high volume)?\n",
        "  * Are they also the most popular?\n",
        "  * How could MR.Bilit increase revenue from less popular but high-price routes?\n",
        "\n",
        "10. Are some vehicle types consistently underperforming in bookings or profitability?\n",
        "  * Could this be a demand issue, a pricing issue, or a perception problem?\n"
      ],
      "metadata": {
        "id": "iGF3nkgYJt5u"
      }
    },
    {
      "cell_type": "markdown",
      "source": [
        "### ANSWERS\n",
        "\n",
        "1.   possible reasons:<br>\n",
        "**Operational**: frequent delays, mechanical issues, limited backup vehicles, inconsistent service quality.<br>\n",
        "**Seasonal**: weather disruptions (snow in winter for certain regions, sandstorms in the south), holiday congestion.<br>\n",
        "**Customer-related**: students cancel more if before exam weeks. business travelers cancel if meetings shift. tourists cancel if events are postponed or they find better deals.<br><br>\n",
        "testing:<br>\n",
        "group data by From, To, VehicleType, month, calculate Cancel rate.<br>\n",
        "join with external datasets: weather, holiday calendar.<br>\n",
        "Regression model: cancellation rate ~ route + vehicle type + season + price + booking lead time.<br><br><br>\n",
        "\n",
        "2.   possible drivers:<br>\n",
        "**Holidays**: People overbook during Nowruz, later cancel as plans change.<br>\n",
        "**Economic**: Fare price hikes or sudden promotions elsewhere.<br>\n",
        "**Operational**: Strikes, driver shortages, route suspensions.<br>\n",
        "**External shocks**: Floods, sports event cancellations.<br><br>\n",
        "Validation:<br>\n",
        "Time-series decomposition of cancellations.<br>\n",
        "Overlay with calendar of public holidays, weather events, airline/bus strikes.<br>\n",
        "Compare to booking volume to see if peaks are relative increases, or simply proportional to more bookings.<br><br><br>\n",
        "\n",
        "3.   Hypotheses:<br>\n",
        "**Maintenance issues**: repeated breakdowns → loss of trust.<br>\n",
        "**Driver shortage**: service rescheduling.<br>\n",
        "**Regulation change**: new safety checks reducing capacity or delaying departures.<br><br>\n",
        "Data confirmation:<br>\n",
        "Compare on-time performance before and after spike date.<br>\n",
        "Check if spike correlates with higher refund times or rescheduling frequency.<br>\n",
        "Identify sudden drop in bookings post‑spike to confirm customer perception impact.<br><br><br>\n",
        "\n",
        "4.   behavior differences:<br>\n",
        "**Short-notice**: More business/urgent trips, high tolerance for price, lower cancellation rate if trip is critical.<br>\n",
        "**Long-lead**: Tourists, planners, group travels — more likely to cancel with changing plans.<br><br>\n",
        "Testing:<br>\n",
        "Segment bookings by lead time (DepartureTime – Created).<br>\n",
        "Compare Cancel rate, price paid, trip reason.<br>\n",
        "Use clustering to identify booking behavior patterns.<br><br><br>\n",
        "\n",
        "5.   Possible patterns:<br>\n",
        "**Routes**: Women may prefer safer or family-friendly routes/times.<br>\n",
        "**Prices**: Economic constraints or travel frequency differences.<br>\n",
        "**Trip reasons**: Men might travel more for work; women more for family visits.<br>\n",
        "**Cancellation**: Cultural patterns around solo female travel, seasonal family obligations.<br><br>\n",
        "Testing:<br>\n",
        "Group by Male flag + route + trip reason + price, compare volumes and cancel rates.<br>\n",
        "Control for socio-economic and geographic context.<br><br><br>\n",
        "\n",
        "6.   Possible segments:<br>\n",
        "**Price-sensitive planners**: Students, tourists booking >2 weeks in advance.<br>\n",
        "**Business premium**: Work trips, short notice, low cancellation.<br>\n",
        "**Seasonal family travelers**: Large groups, mid-lead time, price sensitive.<br>\n",
        "**Luxury leisure**: High price, flexible dates.<br><br>\n",
        "Targeting:<br>\n",
        "Early bird discounts for planners.<br>\n",
        "Flexible ticket upgrades for business travelers.<br>\n",
        "Family travel bundles around holidays.<br><br>\n",
        "Additional data needed:<br>\n",
        "Loyalty data, repeat booking history, exact passenger count per booking, group IDs.<br><br><br>\n",
        "\n",
        "8.   (8)Questions to test:<br>\n",
        "Does discount size increase total bookings or conversion rate?<br>\n",
        "Does it reduce cancellations because customers feel invested, or increase them due to impulse buys?<br>\n",
        "Is there seasonality (e.g., more effective in low season)?<br><br>\n",
        "Experiments:<br>\n",
        "A/B test coupon offers on similar routes and dates.<br>\n",
        "Track conversion uplift and cancellation changes.<br>\n",
        "Run post-purchase feedback surveys.<br><br><br>\n",
        "\n",
        "9.   (9)Analysis:<br>\n",
        "Profitability = Average Price × Booking Volume – (Refund/Operational Costs).<br>\n",
        "Compare with popularity rank (volume alone).<br><br>\n",
        "Opportunities:<br>\n",
        "High-price low-volume: test marketing to relevant customer segments, bundle with return trips.<br>\n",
        "Low-price high-volume: upsell premium seats, add-ons.<br><br><br>\n",
        "\n",
        "10.   (10)Diagnosis:<br>\n",
        "If low bookings & low profitability: demand issue — maybe wrong market fit.<br>\n",
        "If low bookings but high price: perception problem, customers don’t see value.<br>\n",
        "If high bookings but low profitability: pricing strategy is to blame.<br><br>\n",
        "Testing:<br>\n",
        "Compare occupancy rates vs. other types on same routes.<br>\n",
        "Customer feedback analysis (surveys, review scrape).<br>\n",
        "Price elasticity testing."
      ],
      "metadata": {
        "id": "69qpmXgXtEHa"
      }
    },
    {
      "cell_type": "markdown",
      "source": [
        " ---\n",
        "\n",
        "#### **Step 5: Optional**"
      ],
      "metadata": {
        "id": "rIpWBxiMfjV3"
      }
    },
    {
      "cell_type": "markdown",
      "source": [
        "**KPI Dashboard with Streamlit**\n",
        "\n",
        "Based on your finding, including problems and essential KPIs, design and implement an intractive report.\n",
        "\n",
        "You can use streamlit, Next.js, or any framework of your choice.\n",
        "\n",
        "**KPIs to include:**\n",
        "- Total trips, cancellations, avg price, top routes.\n",
        "- Cancellation rate by day-of-week & time-of-day.\n",
        "- Top 5 routes with highest cancellation rate.\n",
        "- Demand trends by month and weekday.\n",
        "- Cancellation patterns by vehicle type.\n",
        "- Price distribution and anomalies.\n",
        "- etc.\n",
        "\n",
        "**Interactive Filters:**\n",
        "date, route, vehicle type, etc."
      ],
      "metadata": {
        "id": "8FcmXEaLbP2J"
      }
    }
  ]
}